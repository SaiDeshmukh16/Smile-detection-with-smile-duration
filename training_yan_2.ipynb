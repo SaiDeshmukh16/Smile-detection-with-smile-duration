{
 "cells": [
  {
   "cell_type": "markdown",
   "id": "f2e1c94f-6a58-484e-a0e3-fb5765874ca7",
   "metadata": {},
   "source": [
    "Imports"
   ]
  },
  {
   "cell_type": "code",
   "execution_count": 23,
   "id": "0a267fb7-79a0-47b7-b650-2fcbd8597786",
   "metadata": {},
   "outputs": [],
   "source": [
    "from sklearn.model_selection import train_test_split\n",
    "from tensorflow.keras.preprocessing.image import img_to_array\n",
    "from tensorflow.keras.utils import load_img\n",
    "from tensorflow.keras import Sequential\n",
    "from tensorflow.keras.layers import Conv2D\n",
    "from tensorflow.keras.layers import MaxPool2D\n",
    "from tensorflow.keras.layers import Flatten\n",
    "from tensorflow.keras.layers import Dense\n",
    "import matplotlib.pyplot as plt\n",
    "import numpy as np\n",
    "import os    "
   ]
  },
  {
   "cell_type": "markdown",
   "id": "12321eb8-535a-4838-8fb4-f28f1bc7b8a9",
   "metadata": {},
   "source": [
    "Loading the Data"
   ]
  },
  {
   "cell_type": "code",
   "execution_count": 24,
   "id": "7eba5b71-31e2-4b52-9327-99617f9ad6fe",
   "metadata": {},
   "outputs": [],
   "source": [
    "valid_formats = [\".jpg\", \".jpeg\", \".png\"]\n",
    "\n",
    "def image_paths(root):\n",
    "    #\"C:\\Users\\Yanish\\Desktop\\WBS\\Bootcamp\\Week_13_14_15\\Final_project\\smile_detection_2\\SMILES\"\n",
    "    image_paths = []\n",
    "\n",
    "    # loop over the diretory tree\n",
    "    for dirpath, dirnames, filenames in os.walk(root):\n",
    "        for filename in filenames:\n",
    "            # extract the file extension from the filename\n",
    "            extension = os.path.splitext(filename)[1].lower()\n",
    "\n",
    "            # if the filename is an image we build the full \n",
    "            # path to the image and append it to our list\n",
    "            if extension in valid_formats:\n",
    "                image_path = os.path.join(dirpath, filename)\n",
    "                image_paths.append(image_path)\n",
    "    \n",
    "    return image_paths"
   ]
  },
  {
   "cell_type": "code",
   "execution_count": 25,
   "id": "0a5c0807-c9f7-4d94-b630-b37282dc13f1",
   "metadata": {},
   "outputs": [],
   "source": [
    "image_paths = image_paths(\"SMILES\")\n",
    "IMG_SIZE = [32, 32]\n",
    "\n",
    "def load_dataset(image_paths, target_size=IMG_SIZE):\n",
    "    data = []\n",
    "    labels = []\n",
    "    \n",
    "    # loop over the image paths\n",
    "    for image_path in image_paths:\n",
    "        # load the image in grayscale and convert it to an array\n",
    "        image = load_img(image_path, color_mode=\"grayscale\", target_size=target_size)\n",
    "        image = img_to_array(image)\n",
    "        # append the array to our list \n",
    "        data.append(image)\n",
    "        \n",
    "        # extract the label from the image path and append it to the `labels` list\n",
    "        label = image_path.split(os.path.sep)[-3]\n",
    "        label = 1 if label == \"positives\" else 0\n",
    "        labels.append(label)\n",
    "        \n",
    "    return np.array(data) / 255.0, np.array(labels)\n",
    "\n",
    "data, labels = load_dataset(image_paths, IMG_SIZE)"
   ]
  },
  {
   "cell_type": "markdown",
   "id": "5ab779b0-26d2-4c82-89b2-67d49057ff5d",
   "metadata": {},
   "source": [
    "Training the Smile Detector"
   ]
  },
  {
   "cell_type": "code",
   "execution_count": 26,
   "id": "85ef9c20-ccb7-4808-a651-4ae9a750bce3",
   "metadata": {},
   "outputs": [],
   "source": [
    "def build_model(input_shape=IMG_SIZE + [1]):\n",
    "    model = Sequential([\n",
    "        Conv2D(filters=32,\n",
    "               kernel_size=(3, 3),\n",
    "               activation=\"relu\",\n",
    "               padding='same',\n",
    "               input_shape=input_shape),\n",
    "        MaxPool2D(2, 2),\n",
    "        Conv2D(filters=64,\n",
    "               kernel_size=(3, 3),\n",
    "               activation=\"relu\",\n",
    "               padding='same'),\n",
    "        MaxPool2D(2, 2),\n",
    "        Flatten(),\n",
    "        Dense(256, activation=\"relu\"),\n",
    "        Dense(1, activation=\"sigmoid\")\n",
    "    ])\n",
    "\n",
    "    model.compile(loss=\"binary_crossentropy\", optimizer=\"adam\", metrics=[\"accuracy\"])\n",
    "    return model\n",
    "\n",
    "# count the number of each label \n",
    "label, counts = np.unique(labels, return_counts=True)\n",
    "# compute the class weights\n",
    "counts = max(counts) / counts\n",
    "class_weight = dict(zip(label, counts))\n",
    "\n",
    "\n",
    "(X_train, X_test, y_train, y_test) = train_test_split(data, labels, \n",
    "                                                    test_size=0.2,\n",
    "                                                    stratify=labels,\n",
    "                                                    random_state=42)\n",
    "\n",
    "(X_train, X_valid, y_train, y_valid) = train_test_split(X_train, y_train,\n",
    "                                                        test_size=0.2,\n",
    "                                                        stratify=y_train,\n",
    "                                                        random_state=42)"
   ]
  },
  {
   "cell_type": "code",
   "execution_count": 27,
   "id": "5d9f8e47-2b62-4877-ba5d-801ef2af29c8",
   "metadata": {},
   "outputs": [],
   "source": [
    "# build the model\n",
    "model = build_model()"
   ]
  },
  {
   "cell_type": "code",
   "execution_count": 36,
   "id": "ef247629-1b7a-4a7c-8392-d747d2b102e0",
   "metadata": {},
   "outputs": [
    {
     "name": "stdout",
     "output_type": "stream",
     "text": [
      "Epoch 1/15\n",
      "169/169 [==============================] - 4s 21ms/step - loss: 0.0848 - accuracy: 0.9752 - val_loss: 0.2942 - val_accuracy: 0.9091\n",
      "Epoch 2/15\n",
      "169/169 [==============================] - 4s 23ms/step - loss: 0.0715 - accuracy: 0.9797 - val_loss: 0.3226 - val_accuracy: 0.9036\n",
      "Epoch 3/15\n",
      "169/169 [==============================] - 3s 21ms/step - loss: 0.0575 - accuracy: 0.9843 - val_loss: 0.3250 - val_accuracy: 0.9091\n",
      "Epoch 4/15\n",
      "169/169 [==============================] - 3s 20ms/step - loss: 0.0490 - accuracy: 0.9878 - val_loss: 0.4082 - val_accuracy: 0.9099\n",
      "Epoch 5/15\n",
      "169/169 [==============================] - 3s 20ms/step - loss: 0.0491 - accuracy: 0.9874 - val_loss: 0.3605 - val_accuracy: 0.9028\n",
      "Epoch 6/15\n",
      "169/169 [==============================] - 4s 24ms/step - loss: 0.0457 - accuracy: 0.9891 - val_loss: 0.3524 - val_accuracy: 0.9117\n",
      "Epoch 7/15\n",
      "169/169 [==============================] - 3s 20ms/step - loss: 0.0336 - accuracy: 0.9920 - val_loss: 0.3689 - val_accuracy: 0.9080\n",
      "Epoch 8/15\n",
      "169/169 [==============================] - 3s 21ms/step - loss: 0.0247 - accuracy: 0.9949 - val_loss: 0.3905 - val_accuracy: 0.9136\n",
      "Epoch 9/15\n",
      "169/169 [==============================] - 4s 21ms/step - loss: 0.0195 - accuracy: 0.9965 - val_loss: 0.4252 - val_accuracy: 0.9158\n",
      "Epoch 10/15\n",
      "169/169 [==============================] - 4s 23ms/step - loss: 0.0204 - accuracy: 0.9962 - val_loss: 0.4356 - val_accuracy: 0.9147\n",
      "Epoch 11/15\n",
      "169/169 [==============================] - 4s 24ms/step - loss: 0.0459 - accuracy: 0.9875 - val_loss: 0.4345 - val_accuracy: 0.9062\n",
      "Epoch 12/15\n",
      "169/169 [==============================] - 4s 22ms/step - loss: 0.0277 - accuracy: 0.9936 - val_loss: 0.4467 - val_accuracy: 0.9084\n",
      "Epoch 13/15\n",
      "169/169 [==============================] - 4s 22ms/step - loss: 0.0113 - accuracy: 0.9987 - val_loss: 0.4677 - val_accuracy: 0.9110\n",
      "Epoch 14/15\n",
      "169/169 [==============================] - 4s 23ms/step - loss: 0.0116 - accuracy: 0.9978 - val_loss: 0.4868 - val_accuracy: 0.9024\n",
      "Epoch 15/15\n",
      "169/169 [==============================] - 4s 26ms/step - loss: 0.0164 - accuracy: 0.9965 - val_loss: 0.5101 - val_accuracy: 0.9069\n"
     ]
    }
   ],
   "source": [
    "# train the model\n",
    "EPOCHS = 15\n",
    "history = model.fit(X_train, y_train,\n",
    "                    validation_data=(X_valid, y_valid),\n",
    "                    class_weight=class_weight,\n",
    "                    batch_size=64,\n",
    "                    epochs=EPOCHS)"
   ]
  },
  {
   "cell_type": "code",
   "execution_count": 37,
   "id": "de5b5d09-5dac-4fab-8a69-62916c6ad49b",
   "metadata": {},
   "outputs": [
    {
     "name": "stderr",
     "output_type": "stream",
     "text": [
      "WARNING:absl:Found untraced functions such as _jit_compiled_convolution_op, _jit_compiled_convolution_op while saving (showing 2 of 2). These functions will not be directly callable after loading.\n"
     ]
    },
    {
     "name": "stdout",
     "output_type": "stream",
     "text": [
      "INFO:tensorflow:Assets written to: model\\assets\n"
     ]
    },
    {
     "name": "stderr",
     "output_type": "stream",
     "text": [
      "INFO:tensorflow:Assets written to: model\\assets\n"
     ]
    }
   ],
   "source": [
    "# save the model\n",
    "model.save(\"model\")"
   ]
  },
  {
   "cell_type": "markdown",
   "id": "2d294a00-f999-42ff-81aa-0bc553d53f65",
   "metadata": {},
   "source": [
    "Plotting the learning curves of the training and validation accuracy/loss"
   ]
  },
  {
   "cell_type": "code",
   "execution_count": 38,
   "id": "a7d9b818-94d3-4833-85de-225cb4a6cafd",
   "metadata": {},
   "outputs": [
    {
     "data": {
      "image/png": "[encoded data removed]",
      "text/plain": [
       "<Figure size 640x480 with 1 Axes>"
      ]
     },
     "metadata": {},
     "output_type": "display_data"
    },
    {
     "data": {
      "image/png": "[encoded data removed]",
      "text/plain": [
       "<Figure size 640x480 with 1 Axes>"
      ]
     },
     "metadata": {},
     "output_type": "display_data"
    }
   ],
   "source": [
    "acc = history.history['accuracy']\n",
    "val_acc = history.history['val_accuracy']\n",
    "\n",
    "loss = history.history['loss']\n",
    "val_loss = history.history['val_loss']\n",
    "\n",
    "plt.plot(range(EPOCHS), acc, \"b\", label=\"Training Accuracy\")\n",
    "plt.plot(range(EPOCHS), val_acc, \"r\", label=\"Validation Accuracy\")\n",
    "plt.legend()\n",
    "\n",
    "plt.figure()\n",
    "\n",
    "plt.plot(range(EPOCHS), loss, \"g\", label=\"Training Loss\")\n",
    "plt.plot(range(EPOCHS), val_loss, \"orange\", label=\"Validation Loss\")\n",
    "plt.legend()\n",
    "\n",
    "plt.show()"
   ]
  },
  {
   "cell_type": "markdown",
   "id": "54a98224-a422-449d-a8c2-7e06d44650d0",
   "metadata": {},
   "source": [
    "Evaluate the model on the test set"
   ]
  },
  {
   "cell_type": "code",
   "execution_count": 39,
   "id": "28cc02e5-e243-4e3a-af69-2274c3901495",
   "metadata": {},
   "outputs": [
    {
     "name": "stdout",
     "output_type": "stream",
     "text": [
      "106/106 [==============================] - 1s 5ms/step - loss: 0.5442 - accuracy: 0.9059\n",
      "Test Loss: 0.5442, Test Accuracy: 90.59%\n"
     ]
    }
   ],
   "source": [
    "test_loss, test_accuracy = model.evaluate(X_test, y_test)\n",
    "print(f'Test Loss: {test_loss:.4f}, Test Accuracy: {test_accuracy * 100:.2f}%')"
   ]
  }
 ],
 "metadata": {
  "kernelspec": {
   "display_name": "tf",
   "language": "python",
   "name": "tf"
  },
  "language_info": {
   "codemirror_mode": {
    "name": "ipython",
    "version": 3
   },
   "file_extension": ".py",
   "mimetype": "text/x-python",
   "name": "python",
   "nbconvert_exporter": "python",
   "pygments_lexer": "ipython3",
   "version": "3.10.8"
  }
 },
 "nbformat": 4,
 "nbformat_minor": 5
}
